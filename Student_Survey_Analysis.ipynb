{
  "nbformat": 4,
  "nbformat_minor": 0,
  "metadata": {
    "colab": {
      "provenance": [],
      "authorship_tag": "ABX9TyOAiPGliWGzyIKWfKQn3qvG",
      "include_colab_link": true
    },
    "kernelspec": {
      "name": "python3",
      "display_name": "Python 3"
    },
    "language_info": {
      "name": "python"
    }
  },
  "cells": [
    {
      "cell_type": "markdown",
      "metadata": {
        "id": "view-in-github",
        "colab_type": "text"
      },
      "source": [
        "<a href=\"https://colab.research.google.com/github/Superkart/ARModelViewer/blob/main/Student_Survey_Analysis.ipynb\" target=\"_parent\"><img src=\"https://colab.research.google.com/assets/colab-badge.svg\" alt=\"Open In Colab\"/></a>"
      ]
    },
    {
      "cell_type": "markdown",
      "source": [
        "#**Project Overview**\n",
        "\n",
        "## Student Satisfaction Survey Analysis (Simulated)\n",
        "\n",
        "This project simulates the workflow I followed as a Student Data Analyst Intern at Manipal University. It involves:\n",
        "- Handling survey responses collected using Google Forms\n",
        "- Cleaning and organizing the dataset using Python (pandas)\n",
        "- Analyzing trends in student satisfaction\n",
        "- Visualizing the results using matplotlib/seaborn\n"
      ],
      "metadata": {
        "id": "snxzsRQe1w-a"
      }
    },
    {
      "cell_type": "markdown",
      "source": [
        "##**Importing Libraries**\n"
      ],
      "metadata": {
        "id": "_oQ3F4kT2M7c"
      }
    },
    {
      "cell_type": "code",
      "source": [
        "import numpy as np\n",
        "import pandas as pd\n",
        "import matplotlib.pyplot as plt\n",
        "import seaborn as sb"
      ],
      "metadata": {
        "id": "vHmZ-0fr2Ttb"
      },
      "execution_count": null,
      "outputs": []
    }
  ]
}